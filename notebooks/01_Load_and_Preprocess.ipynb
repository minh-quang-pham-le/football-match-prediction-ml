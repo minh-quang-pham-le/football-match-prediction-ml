{
 "cells": [
  {
   "cell_type": "code",
   "execution_count": 1,
   "metadata": {},
   "outputs": [],
   "source": [
    "import sys\n",
    "import os\n",
    "os.chdir(\"..\")"
   ]
  },
  {
   "cell_type": "code",
   "execution_count": 2,
   "metadata": {},
   "outputs": [],
   "source": [
    "from src.data.download_data import download_data, extract_sqlite_to_csv\n",
    "from src.data.data_preprocessing import *"
   ]
  },
  {
   "cell_type": "code",
   "execution_count": 3,
   "metadata": {},
   "outputs": [
    {
     "name": "stdout",
     "output_type": "stream",
     "text": [
      "[OK] Đã lưu bảng `sqlite_sequence` vào `data/raw/sqlite_sequence.csv`\n",
      "[OK] Đã lưu bảng `Player_Attributes` vào `data/raw/Player_Attributes.csv`\n",
      "[OK] Đã lưu bảng `Player` vào `data/raw/Player.csv`\n",
      "[OK] Đã lưu bảng `Match` vào `data/raw/Match.csv`\n",
      "[OK] Đã lưu bảng `League` vào `data/raw/League.csv`\n",
      "[OK] Đã lưu bảng `Country` vào `data/raw/Country.csv`\n",
      "[OK] Đã lưu bảng `Team` vào `data/raw/Team.csv`\n",
      "[OK] Đã lưu bảng `Team_Attributes` vào `data/raw/Team_Attributes.csv`\n",
      "[DONE] Tất cả bảng đã được trích xuất thành CSV.\n"
     ]
    }
   ],
   "source": [
    "import kaggle\n",
    "# Tải dữ liệu từ Kaggle\n",
    "download_data()\n",
    "# Chuyển đổi dữ liệu từ định dạng SQLite sang CSV\n",
    "extract_sqlite_to_csv(\"data/database.sqlite\", \"data/raw\")"
   ]
  },
  {
   "cell_type": "code",
   "execution_count": null,
   "metadata": {},
   "outputs": [],
   "source": [
    "import pandas as pd\n",
    "from src.data.data_preprocessing import load_raw_data\n",
    "from run_pipeline import preprocess_data\n",
    "from utils.utils import inspect_data, save_intermediate_data, check_missing_values"
   ]
  },
  {
   "cell_type": "code",
   "execution_count": null,
   "metadata": {},
   "outputs": [],
   "source": [
    "# Hiển thị tối đa số cột và chiều rộng lớn hơn\n",
    "pd.set_option('display.max_rows', None)     # hiển thị tất cả hàng\n",
    "pd.set_option('display.max_columns', None)  # hiển thị tất cả cột\n",
    "pd.set_option('display.width', 1000)        # set chiều rộng hiển thị"
   ]
  },
  {
   "cell_type": "code",
   "execution_count": null,
   "metadata": {},
   "outputs": [],
   "source": [
    "matches, teams, team_attributes = load_raw_data()"
   ]
  },
  {
   "cell_type": "code",
   "execution_count": null,
   "metadata": {},
   "outputs": [],
   "source": [
    "check_missing_values(matches, 'matches')"
   ]
  },
  {
   "cell_type": "code",
   "execution_count": null,
   "metadata": {},
   "outputs": [],
   "source": [
    "check_missing_values(teams, 'teams')"
   ]
  },
  {
   "cell_type": "code",
   "execution_count": null,
   "metadata": {},
   "outputs": [],
   "source": [
    "check_missing_values(team_attributes, 'team_attributes')"
   ]
  },
  {
   "cell_type": "code",
   "execution_count": null,
   "metadata": {},
   "outputs": [],
   "source": [
    "# Data trước khi xử lý\n",
    "inspect_data(matches, \"matches\")\n",
    "inspect_data(teams, \"teams\")\n",
    "inspect_data(team_attributes, \"team_attributes\")"
   ]
  },
  {
   "cell_type": "code",
   "execution_count": null,
   "metadata": {},
   "outputs": [],
   "source": [
    "# Load data\n",
    "# Tạo biến mục tiêu\n",
    "# Gộp bảng matches với team names\n",
    "# Chuyển đổi cột date sang định dạng datetime\n",
    "matches, team_attributes = preprocess_data()"
   ]
  },
  {
   "cell_type": "code",
   "execution_count": null,
   "metadata": {},
   "outputs": [],
   "source": [
    "# Data sau khi xử lý\n",
    "inspect_data(matches, \"matches\")\n",
    "inspect_data(teams, \"teams\")\n",
    "inspect_data(team_attributes, \"team_attributes\")"
   ]
  },
  {
   "cell_type": "code",
   "execution_count": null,
   "metadata": {},
   "outputs": [],
   "source": [
    "# Lưu dữ liệu trung gian\n",
    "save_intermediate_data(matches, 'preprocessed_match.csv', processed_dir='data/processed')\n",
    "save_intermediate_data(team_attributes, 'preprocessed_team_attributes.csv', processed_dir='data/processed')"
   ]
  }
 ],
 "metadata": {
  "kernelspec": {
   "display_name": "football-ml",
   "language": "python",
   "name": "python3"
  },
  "language_info": {
   "codemirror_mode": {
    "name": "ipython",
    "version": 3
   },
   "file_extension": ".py",
   "mimetype": "text/x-python",
   "name": "python",
   "nbconvert_exporter": "python",
   "pygments_lexer": "ipython3",
   "version": "3.9.21"
  }
 },
 "nbformat": 4,
 "nbformat_minor": 2
}
