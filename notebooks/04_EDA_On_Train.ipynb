{
 "cells": [
  {
   "cell_type": "code",
   "execution_count": null,
   "id": "1eabe245",
   "metadata": {},
   "outputs": [],
   "source": [
    "import pandas as pd\n",
    "import matplotlib.pyplot as plt\n",
    "import seaborn as sns\n"
   ]
  },
  {
   "cell_type": "code",
   "execution_count": null,
   "id": "1a80f8c3",
   "metadata": {},
   "outputs": [],
   "source": [
    "import sys\n",
    "import os\n",
    "os.chdir(\"..\")\n",
    "\n",
    "X_train = pd.read_csv('data/feature/X_train.csv')\n",
    "y_train = pd.read_csv('data/feature/y_train.csv')\n",
    "\n",
    "# Gộp lại thành 1 DataFrame, đặt tên cột target cho y_train\n",
    "if y_train.shape[1] == 1:\n",
    "    y_train.columns = ['target']  \n",
    "\n",
    "df = pd.concat([X_train, y_train], axis=1)\n",
    "print(df.shape)\n",
    "df.head()\n"
   ]
  },
  {
   "cell_type": "markdown",
   "id": "8a050f95",
   "metadata": {},
   "source": [
    "Dữ liệu có 18,429 dòng và 83 cột."
   ]
  },
  {
   "cell_type": "code",
   "execution_count": null,
   "id": "539bf40e",
   "metadata": {},
   "outputs": [],
   "source": [
    "# Xem kích thước và thông tin\n",
    "print(\"Shape:\", df.shape)\n",
    "print(\"\\nThông tin dataframe:\")\n",
    "df.info()\n",
    "print(\"\\n5 dòng đầu:\")\n",
    "display(df.head())\n",
    "print(\"\\n5 dòng cuối:\")\n",
    "display(df.tail())\n"
   ]
  },
  {
   "cell_type": "markdown",
   "id": "b1b67659",
   "metadata": {},
   "source": [
    "Tất cả các cột đều là số (numeric), không có cột dạng chữ (object)."
   ]
  },
  {
   "cell_type": "code",
   "execution_count": null,
   "id": "43a6bcf0",
   "metadata": {},
   "outputs": [],
   "source": [
    "missing = df.isnull().sum()\n",
    "missing = missing[missing > 0]\n",
    "\n",
    "if not missing.empty:\n",
    "    plt.figure(figsize=(12, 6))\n",
    "    missing.sort_values(ascending=False).plot(kind='bar')\n",
    "    plt.title('Số lượng missing values mỗi cột')\n",
    "    plt.show()\n",
    "else:\n",
    "    print(\"Không có missing values trong bộ dữ liệu!\")\n"
   ]
  },
  {
   "cell_type": "markdown",
   "id": "74263e8a",
   "metadata": {},
   "source": [
    "Không phát hiện giá trị bị thiếu (missing values) nào trong toàn bộ tập train."
   ]
  },
  {
   "cell_type": "code",
   "execution_count": null,
   "id": "b80ff9a6",
   "metadata": {},
   "outputs": [],
   "source": [
    "\n",
    "if len(df.select_dtypes(include='object').columns) > 0:\n",
    "    print(\"Thống kê mô tả biến object/categorical:\")\n",
    "    display(df.describe(include='object'))\n",
    "else:\n",
    "    print(\"Không có biến object/categorical nào trong DataFrame.\")\n"
   ]
  },
  {
   "cell_type": "code",
   "execution_count": null,
   "id": "c63ad414",
   "metadata": {},
   "outputs": [],
   "source": [
    "\n",
    "target_col = 'target'  \n",
    "\n",
    "print(df[target_col].value_counts())\n",
    "df[target_col].value_counts().plot(kind='bar')\n",
    "plt.title('Phân bố biến mục tiêu')\n",
    "plt.show()\n"
   ]
  },
  {
   "cell_type": "markdown",
   "id": "426a2850",
   "metadata": {},
   "source": [
    "Biến target có 3 giá trị: 0, 1, 2.\n",
    "\n",
    "Số lượng từng nhóm không đều:\n",
    "\n",
    "Nhóm 2 nhiều nhất (8,552 dòng)\n",
    "\n",
    "Nhóm 0 (5,229 dòng)\n",
    "\n",
    "Nhóm 1 (4,648 dòng)\n",
    "\n",
    "Dữ liệu hơi lệch về nhóm 2, nếu làm model nên chú ý để tránh dự đoán lệch về nhóm đông."
   ]
  },
  {
   "cell_type": "code",
   "execution_count": null,
   "id": "5d802f49",
   "metadata": {},
   "outputs": [],
   "source": [
    "import seaborn as sns\n",
    "\n",
    "# Chỉ lấy các biến số để plot heatmap\n",
    "numeric_cols = df.select_dtypes(include=['number']).columns.tolist()\n",
    "corr = df[numeric_cols].corr()\n",
    "\n",
    "plt.figure(figsize=(14,10))\n",
    "sns.heatmap(corr, annot=False, cmap='coolwarm')\n",
    "plt.title('Ma trận tương quan các biến số')\n",
    "plt.show()\n"
   ]
  },
  {
   "cell_type": "code",
   "execution_count": null,
   "id": "e6cf15bc",
   "metadata": {},
   "outputs": [],
   "source": [
    "for col in numeric_cols:\n",
    "    if col != target_col:\n",
    "        plt.figure(figsize=(6, 3))\n",
    "        sns.histplot(df[col], kde=True)\n",
    "        plt.title(f'Phân phối: {col}')\n",
    "        plt.show()\n"
   ]
  },
  {
   "cell_type": "markdown",
   "id": "a881ded1",
   "metadata": {},
   "source": [
    "Đa số các biến số trong dữ liệu đều có phân phối khá hợp lý và không quá bất thường.\n",
    "\n",
    "Các biến dạng ID, giải đấu, giai đoạn mùa giải, năm, tháng… đều có phân phối đồng đều hoặc trải rộng, không bị lệch về phía nào\n",
    "\n",
    "Không có biến nào xuất hiện quá nhiều giá trị dị biệt (outlier) hoặc chỉ lặp lại một giá trị duy nhất\n",
    "\n",
    "Các biến số chính đều phù hợp với thực tế và có khả năng đóng góp tốt cho mô hình dự đoán."
   ]
  },
  {
   "cell_type": "code",
   "execution_count": null,
   "id": "f63358e4",
   "metadata": {},
   "outputs": [],
   "source": [
    "for col in numeric_cols:\n",
    "    if col != target_col:\n",
    "        plt.figure(figsize=(6, 2))\n",
    "        sns.boxplot(x=df[col])\n",
    "        plt.title(f'Boxplot: {col}')\n",
    "        plt.show()\n"
   ]
  },
  {
   "cell_type": "markdown",
   "id": "7aab46c2",
   "metadata": {},
   "source": [
    "Đối với các chỉ số cầu thủ  có thể có một vài outlier nhẹ ở phía thấp hoặc cao, nhưng số lượng không đáng kể và không ảnh hưởng quá nhiều đến tổng thể.\n",
    "\n",
    "Hầu hết các feature dạng chỉ số trận đấu, thời gian đều có phân phối khá đều, không có nhiều điểm bất thường hoặc giá trị dị biệt (outlier) rõ rệt.\n",
    "\n"
   ]
  },
  {
   "cell_type": "markdown",
   "id": "072fdf26",
   "metadata": {},
   "source": [
    "KẾT LUẬN:\n",
    "\n",
    "Dữ liệu sạch, không thiếu giá trị, đủ lớn.\n",
    "\n",
    "Target hơi mất cân bằng, chú ý khi train model.\n",
    "\n",
    "\n",
    "\n"
   ]
  },
  {
   "cell_type": "markdown",
   "id": "cbe1e2f5",
   "metadata": {},
   "source": []
  }
 ],
 "metadata": {
  "kernelspec": {
   "display_name": "base",
   "language": "python",
   "name": "python3"
  },
  "language_info": {
   "codemirror_mode": {
    "name": "ipython",
    "version": 3
   },
   "file_extension": ".py",
   "mimetype": "text/x-python",
   "name": "python",
   "nbconvert_exporter": "python",
   "pygments_lexer": "ipython3",
   "version": "3.12.7"
  }
 },
 "nbformat": 4,
 "nbformat_minor": 5
}
