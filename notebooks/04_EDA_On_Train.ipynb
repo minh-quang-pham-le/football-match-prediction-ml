{
 "cells": [
  {
   "cell_type": "code",
   "execution_count": null,
   "id": "a2e8ab55",
   "metadata": {},
   "outputs": [],
   "source": [
    "# 1. Import thư viện\n",
    "import pandas as pd\n",
    "import numpy as np\n",
    "import matplotlib.pyplot as plt\n",
    "import seaborn as sns\n",
    "from sklearn.preprocessing import LabelEncoder\n",
    "from sklearn.model_selection import train_test_split\n",
    "from sklearn.ensemble import RandomForestClassifier\n",
    "from sklearn.inspection import permutation_importance\n",
    "\n"
   ]
  },
  {
   "cell_type": "code",
   "execution_count": null,
   "id": "1417ddef",
   "metadata": {},
   "outputs": [],
   "source": [
    "# 2. Load dữ liệu\n",
    "match = pd.read_csv(\"../data/raw/match.csv\")\n",
    "team_attr = pd.read_csv(\"../data/raw/team_attributes.csv\")\n"
   ]
  },
  {
   "cell_type": "code",
   "execution_count": null,
   "id": "0d7da0af",
   "metadata": {},
   "outputs": [],
   "source": [
    "# 3. Feature Engineering cơ bản\n",
    "\n",
    "match = match[[\n",
    "    \"id\", \"home_team_api_id\", \"away_team_api_id\", \"date\",\n",
    "    \"home_team_goal\", \"away_team_goal\"\n",
    "]].copy()\n",
    "\n",
    "# Tạo biến kết quả\n",
    "match[\"goal_diff\"] = match[\"home_team_goal\"] - match[\"away_team_goal\"]\n",
    "match[\"match_result\"] = match[\"goal_diff\"].apply(\n",
    "    lambda x: \"Home Win\" if x > 0 else \"Away Win\" if x < 0 else \"Draw\"\n",
    ")\n",
    "\n",
    "# Ngày tháng\n",
    "match[\"match_date\"] = pd.to_datetime(match[\"date\"])\n",
    "match[\"match_month\"] = match[\"match_date\"].dt.month\n",
    "match[\"match_year\"] = match[\"match_date\"].dt.year\n"
   ]
  },
  {
   "cell_type": "code",
   "execution_count": null,
   "id": "273d0c20",
   "metadata": {},
   "outputs": [],
   "source": [
    "# 4. Gộp dữ liệu chiến thuật đội bóng\n",
    "latest_attr = team_attr.sort_values(\"date\").drop_duplicates(\"team_api_id\", keep=\"last\")\n",
    "\n",
    "home_attr = latest_attr.rename(columns={\n",
    "    \"team_api_id\": \"home_team_api_id\",\n",
    "    \"buildUpPlaySpeed\": \"home_speed\",\n",
    "    \"chanceCreationShooting\": \"home_shooting\",\n",
    "    \"defencePressure\": \"home_pressure\"\n",
    "})[[\"home_team_api_id\", \"home_speed\", \"home_shooting\", \"home_pressure\"]]\n",
    "\n",
    "away_attr = latest_attr.rename(columns={\n",
    "    \"team_api_id\": \"away_team_api_id\",\n",
    "    \"buildUpPlaySpeed\": \"away_speed\",\n",
    "    \"chanceCreationShooting\": \"away_shooting\",\n",
    "    \"defencePressure\": \"away_pressure\"\n",
    "})[[\"away_team_api_id\", \"away_speed\", \"away_shooting\", \"away_pressure\"]]\n",
    "\n",
    "match = match.merge(home_attr, on=\"home_team_api_id\", how=\"left\")\n",
    "match = match.merge(away_attr, on=\"away_team_api_id\", how=\"left\")\n",
    "\n",
    "# Tạo feature chênh lệch\n",
    "match[\"diff_speed\"] = match[\"home_speed\"] - match[\"away_speed\"]\n",
    "match[\"diff_shooting\"] = match[\"home_shooting\"] - match[\"away_shooting\"]\n",
    "match[\"diff_pressure\"] = match[\"home_pressure\"] - match[\"away_pressure\"]\n"
   ]
  },
  {
   "cell_type": "code",
   "execution_count": null,
   "id": "8f495f49",
   "metadata": {},
   "outputs": [],
   "source": [
    "# 5. Chuẩn bị dữ liệu huấn luyện\n",
    "features = match[[\n",
    "    \"home_team_goal\", \"away_team_goal\", \"match_month\",\n",
    "    \"diff_speed\", \"diff_shooting\", \"diff_pressure\"\n",
    "]]\n",
    "labels = match[\"match_result\"]\n",
    "\n",
    "# Loại bỏ NaN\n",
    "features = features.dropna()\n",
    "labels = labels.loc[features.index]\n",
    "\n",
    "# Encode target\n",
    "le = LabelEncoder()\n",
    "y_encoded = le.fit_transform(labels)\n",
    "\n",
    "X_train, X_test, y_train, y_test = train_test_split(features, y_encoded, test_size=0.2, random_state=42)\n"
   ]
  },
  {
   "cell_type": "code",
   "execution_count": null,
   "id": "811e64f8",
   "metadata": {},
   "outputs": [],
   "source": [
    "# 6. EDA nhanh\n",
    "plt.figure(figsize=(6,4))\n",
    "sns.countplot(x=labels)\n",
    "plt.title(\"Distribution of Match Results\")\n",
    "plt.show()\n",
    "\n",
    "sns.pairplot(features.assign(Result=labels).dropna(), hue=\"Result\")\n"
   ]
  },
  {
   "cell_type": "code",
   "execution_count": null,
   "id": "edd51efd",
   "metadata": {},
   "outputs": [],
   "source": [
    "# Phân phối kết quả trận đấu\n",
    "plt.figure(figsize=(6,4))\n",
    "sns.countplot(x=labels)\n",
    "plt.title(\"Distribution of Match Results\")\n",
    "plt.xlabel(\"Match Result\")\n",
    "plt.ylabel(\"Count\")\n",
    "plt.show()\n"
   ]
  },
  {
   "cell_type": "code",
   "execution_count": null,
   "id": "f8a095fa",
   "metadata": {},
   "outputs": [],
   "source": [
    "# NHÓM 1: Biến liên quan đến bàn thắng & thời gian\n",
    "sns.pairplot(\n",
    "    data=features.assign(Result=labels),\n",
    "    vars=[\"home_team_goal\", \"away_team_goal\", \"match_month\"],\n",
    "    hue=\"Result\",\n",
    "    height=2.5\n",
    ")\n",
    "plt.suptitle(\"Group 1: Goals & Month\", y=1.02)\n",
    "plt.show()\n"
   ]
  },
  {
   "cell_type": "code",
   "execution_count": null,
   "id": "bb7ce691",
   "metadata": {},
   "outputs": [],
   "source": [
    "# NHÓM 2: Chênh lệch chiến thuật\n",
    "sns.pairplot(\n",
    "    data=features.assign(Result=labels),\n",
    "    vars=[\"diff_speed\", \"diff_shooting\", \"diff_pressure\"],\n",
    "    hue=\"Result\",\n",
    "    height=2.5\n",
    ")\n",
    "plt.suptitle(\"Group 2: Tactical Differences\", y=1.02)\n",
    "plt.show()\n"
   ]
  },
  {
   "cell_type": "code",
   "execution_count": null,
   "id": "0f8a6afc",
   "metadata": {},
   "outputs": [],
   "source": [
    "# Biểu đồ Boxplot từng biến theo kết quả\n",
    "for col in features.columns:\n",
    "    plt.figure(figsize=(6, 4))\n",
    "    sns.boxplot(data=features.assign(Result=labels), x=\"Result\", y=col)\n",
    "    plt.title(f\"{col} vs Match Result\")\n",
    "    plt.tight_layout()\n",
    "    plt.show()\n"
   ]
  },
  {
   "cell_type": "code",
   "execution_count": null,
   "id": "a600af3e",
   "metadata": {},
   "outputs": [],
   "source": [
    "# Heatmap tương quan\n",
    "plt.figure(figsize=(8,6))\n",
    "sns.heatmap(features.corr(), annot=True, cmap='coolwarm', fmt=\".2f\")\n",
    "plt.title(\"Correlation Between Features\")\n",
    "plt.tight_layout()\n",
    "plt.show()\n"
   ]
  },
  {
   "cell_type": "code",
   "execution_count": null,
   "id": "b63bb8c0",
   "metadata": {},
   "outputs": [],
   "source": [
    "# 7. Huấn luyện mô hình Random Forest\n",
    "model = RandomForestClassifier(n_estimators=100, random_state=42)\n",
    "model.fit(X_train, y_train)\n",
    "\n",
    "# Trích xuất Feature Importance\n",
    "importance = model.feature_importances_\n",
    "feat_df = pd.DataFrame({'feature': features.columns, 'importance': importance}).sort_values(by=\"importance\", ascending=False)\n",
    "\n",
    "plt.figure(figsize=(8,5))\n",
    "sns.barplot(data=feat_df, x=\"importance\", y=\"feature\")\n",
    "plt.title(\"Feature Importance (Gốc)\")\n",
    "plt.show()\n"
   ]
  },
  {
   "cell_type": "code",
   "execution_count": null,
   "id": "72a0fa93",
   "metadata": {},
   "outputs": [],
   "source": [
    "# 8. Permutation Importance\n",
    "perm_result = permutation_importance(model, X_test, y_test, n_repeats=10, random_state=42)\n",
    "\n",
    "perm_df = pd.DataFrame({\n",
    "    'feature': features.columns,\n",
    "    'importance_mean': perm_result.importances_mean,\n",
    "    'importance_std': perm_result.importances_std\n",
    "}).sort_values(by='importance_mean', ascending=False)\n",
    "\n",
    "plt.figure(figsize=(8,5))\n",
    "plt.barh(perm_df['feature'], perm_df['importance_mean'], xerr=perm_df['importance_std'])\n",
    "plt.title(\"Permutation Importance\")\n",
    "plt.xlabel(\"Mean decrease in accuracy\")\n",
    "plt.gca().invert_yaxis()\n",
    "plt.show()\n"
   ]
  },
  {
   "cell_type": "code",
   "execution_count": null,
   "id": "700b4d97",
   "metadata": {},
   "outputs": [],
   "source": [
    "# 9. Kết luận\n",
    "from IPython.display import Markdown as md\n",
    "md(f\"\"\"\n",
    "**Top 3 feature quan trọng nhất:**\n",
    "\n",
    "1. `{feat_df.iloc[0]['feature']}`\n",
    "2. `{feat_df.iloc[1]['feature']}`\n",
    "3. `{feat_df.iloc[2]['feature']}`\n",
    "\n",
    "Feature như `match_month` hoặc `diff_pressure` có thể ít đóng góp cho mô hình, cần xem xét loại bỏ hoặc biến đổi lại.\n",
    "\"\"\")\n"
   ]
  }
 ],
 "metadata": {
  "kernelspec": {
   "display_name": "base",
   "language": "python",
   "name": "python3"
  },
  "language_info": {
   "codemirror_mode": {
    "name": "ipython",
    "version": 3
   },
   "file_extension": ".py",
   "mimetype": "text/x-python",
   "name": "python",
   "nbconvert_exporter": "python",
   "pygments_lexer": "ipython3",
   "version": "3.12.7"
  }
 },
 "nbformat": 4,
 "nbformat_minor": 5
}
