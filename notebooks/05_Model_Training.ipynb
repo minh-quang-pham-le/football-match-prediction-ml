{
 "cells": [
  {
   "cell_type": "code",
   "execution_count": 1,
   "metadata": {},
   "outputs": [],
   "source": [
    "import sys\n",
    "import os\n",
    "os.chdir(\"..\")\n",
    "import pandas as pd"
   ]
  },
  {
   "cell_type": "code",
   "execution_count": 2,
   "metadata": {},
   "outputs": [],
   "source": [
    "train = pd.read_csv('data/feature/X_train.csv')"
   ]
  },
  {
   "cell_type": "code",
   "execution_count": 3,
   "metadata": {},
   "outputs": [],
   "source": [
    "pd.set_option('display.max_columns', None)"
   ]
  },
  {
   "cell_type": "code",
   "execution_count": 4,
   "metadata": {},
   "outputs": [
    {
     "name": "stdout",
     "output_type": "stream",
     "text": [
      "Series([], dtype: int64)\n"
     ]
    }
   ],
   "source": [
    "missing_values = train.isnull().sum()\n",
    "print(missing_values[missing_values > 0])"
   ]
  },
  {
   "cell_type": "code",
   "execution_count": 5,
   "metadata": {},
   "outputs": [
    {
     "data": {
      "text/plain": [
       "(18429, 82)"
      ]
     },
     "execution_count": 5,
     "metadata": {},
     "output_type": "execute_result"
    }
   ],
   "source": [
    "train.shape"
   ]
  },
  {
   "cell_type": "code",
   "execution_count": 6,
   "metadata": {},
   "outputs": [],
   "source": [
    "val = pd.read_csv('data/feature/X_val.csv')\n",
    "test = pd.read_csv('data/feature/X_test.csv')"
   ]
  },
  {
   "cell_type": "code",
   "execution_count": 7,
   "metadata": {},
   "outputs": [
    {
     "data": {
      "text/plain": [
       "(3270, 82)"
      ]
     },
     "execution_count": 7,
     "metadata": {},
     "output_type": "execute_result"
    }
   ],
   "source": [
    "val.shape"
   ]
  },
  {
   "cell_type": "code",
   "execution_count": 8,
   "metadata": {},
   "outputs": [
    {
     "data": {
      "text/plain": [
       "(3262, 82)"
      ]
     },
     "execution_count": 8,
     "metadata": {},
     "output_type": "execute_result"
    }
   ],
   "source": [
    "test.shape"
   ]
  },
  {
   "cell_type": "code",
   "execution_count": 9,
   "metadata": {},
   "outputs": [
    {
     "data": {
      "text/plain": [
       "Index(['league_id', 'stage', 'home_team_api_id', 'away_team_api_id', 'B365H',\n",
       "       'B365D', 'B365A', 'BWH', 'BWD', 'BWA', 'IWH', 'IWD', 'IWA', 'LBH',\n",
       "       'LBD', 'LBA', 'WHH', 'WHD', 'WHA', 'VCH', 'VCD', 'VCA', 'match_year',\n",
       "       'match_month', 'home_wins_last5', 'home_avg_gs_last5',\n",
       "       'home_avg_gc_last5', 'away_wins_last5', 'away_avg_gs_last5',\n",
       "       'away_avg_gc_last5', 'h2h_wins_last3', 'h2h_nobs', 'h2h_win_rate_last3',\n",
       "       'home_buildUpPlaySpeed', 'home_buildUpPlayPassing',\n",
       "       'home_chanceCreationPassing', 'home_chanceCreationShooting',\n",
       "       'home_defencePressure', 'home_defenceAggression',\n",
       "       'home_defenceTeamWidth', 'away_buildUpPlaySpeed',\n",
       "       'away_buildUpPlayPassing', 'away_chanceCreationPassing',\n",
       "       'away_chanceCreationShooting', 'away_defencePressure',\n",
       "       'away_defenceAggression', 'away_defenceTeamWidth', 'diff_speed',\n",
       "       'diff_shooting', 'diff_pressure', 'away_avg_height', 'home_avg_height',\n",
       "       'away_avg_weight', 'home_avg_weight', 'away_avg_age', 'home_avg_age',\n",
       "       'match_importance', 'match_phase', 'home_avg_overall_rating',\n",
       "       'home_avg_potential', 'home_avg_pace', 'home_avg_passing_skill',\n",
       "       'home_avg_dribbling_skill', 'home_avg_shooting_skill',\n",
       "       'home_avg_finishing', 'home_avg_physical', 'home_avg_defensive_skill',\n",
       "       'home_avg_crossing', 'home_avg_heading_accuracy', 'home_avg_penalties',\n",
       "       'away_avg_overall_rating', 'away_avg_potential', 'away_avg_pace',\n",
       "       'away_avg_passing_skill', 'away_avg_dribbling_skill',\n",
       "       'away_avg_shooting_skill', 'away_avg_finishing', 'away_avg_physical',\n",
       "       'away_avg_defensive_skill', 'away_avg_crossing',\n",
       "       'away_avg_heading_accuracy', 'away_avg_penalties'],\n",
       "      dtype='object')"
      ]
     },
     "execution_count": 9,
     "metadata": {},
     "output_type": "execute_result"
    }
   ],
   "source": [
    "train.columns"
   ]
  },
  {
   "cell_type": "code",
   "execution_count": 10,
   "metadata": {},
   "outputs": [],
   "source": [
    "df_2 = pd.read_csv('data/processed/df_2.csv')"
   ]
  },
  {
   "cell_type": "code",
   "execution_count": 11,
   "metadata": {},
   "outputs": [
    {
     "data": {
      "text/plain": [
       "(24961, 85)"
      ]
     },
     "execution_count": 11,
     "metadata": {},
     "output_type": "execute_result"
    }
   ],
   "source": [
    "df_2.shape"
   ]
  }
 ],
 "metadata": {
  "kernelspec": {
   "display_name": "football-ml",
   "language": "python",
   "name": "python3"
  },
  "language_info": {
   "codemirror_mode": {
    "name": "ipython",
    "version": 3
   },
   "file_extension": ".py",
   "mimetype": "text/x-python",
   "name": "python",
   "nbconvert_exporter": "python",
   "pygments_lexer": "ipython3",
   "version": "3.10.16"
  }
 },
 "nbformat": 4,
 "nbformat_minor": 2
}
