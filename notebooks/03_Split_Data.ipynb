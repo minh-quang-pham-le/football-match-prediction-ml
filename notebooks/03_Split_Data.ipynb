{
 "cells": [
  {
   "cell_type": "code",
   "execution_count": null,
   "id": "a6f82fb8",
   "metadata": {},
   "outputs": [],
   "source": [
    "train_sea = ['2008/2009','2009/2010','2010/2011',\n",
    "             '2011/2012','2012/2013','2013/2014']\n",
    "val_sea   = ['2014/2015']\n",
    "test_sea  = ['2015/2016']\n",
    "\n",
    "train = df[df.season.isin(train_sea)].copy()\n",
    "val   = df[df.season.isin(val_sea)].copy()\n",
    "test  = df[df.season.isin(test_sea)].copy()"
   ]
  }
 ],
 "metadata": {
  "language_info": {
   "name": "python"
  }
 },
 "nbformat": 4,
 "nbformat_minor": 5
}
