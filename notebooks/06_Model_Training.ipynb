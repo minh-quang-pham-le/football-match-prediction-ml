{
 "cells": [
  {
   "cell_type": "code",
   "execution_count": null,
   "id": "0cbdbf26",
   "metadata": {
    "vscode": {
     "languageId": "plaintext"
    }
   },
   "outputs": [],
   "source": [
    "# Import thư viện cho model & SHAP\n",
    "from sklearn.model_selection import train_test_split\n",
    "from xgboost import XGBClassifier\n",
    "import shap\n",
    "\n",
    "#Tách dữ liệu train/test\n",
    "X_train, X_test, y_train, y_test = train_test_split(X, y, test_size=0.2, random_state=42)\n",
    "\n",
    "#Huấn luyện mô hình\n",
    "model = XGBClassifier(use_label_encoder=False, eval_metric='mlogloss')\n",
    "model.fit(X_train, y_train)\n",
    "\n",
    "#Tính SHAP values\n",
    "explainer = shap.Explainer(model)\n",
    "shap_values = explainer(X_test)\n",
    "\n",
    "#Vẽ biểu đồ SHAP (feature importance)\n",
    "shap.plots.bar(shap_values, max_display=10)\n",
    "from ydata_profiling import ProfileReport\n",
    "profile = ProfileReport(match[['home_team_goal', 'away_team_goal', 'goal_diff', 'match_result']], title=\"Football Match EDA Report\")\n",
    "profile.to_file(\"EDA_Report.html\")\n"
   ]
  }
 ],
 "metadata": {
  "language_info": {
   "name": "python"
  }
 },
 "nbformat": 4,
 "nbformat_minor": 5
}
